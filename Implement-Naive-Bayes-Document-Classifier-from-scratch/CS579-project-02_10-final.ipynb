{
 "cells": [
  {
   "cell_type": "markdown",
   "metadata": {
    "collapsed": true
   },
   "source": [
    "# Project 2: Naive Bayes Document Classifier"
   ]
  },
  {
   "cell_type": "code",
   "execution_count": 1,
   "metadata": {},
   "outputs": [],
   "source": [
    "from collections import Counter, defaultdict\n",
    "import scipy.stats as st\n",
    "import pandas as pd\n",
    "import numpy as np\n",
    "import operator\n",
    "import timeit\n",
    "import math"
   ]
  },
  {
   "cell_type": "code",
   "execution_count": 11,
   "metadata": {},
   "outputs": [],
   "source": [
    "df1=pd.read_csv('training.csv',header=None)"
   ]
  },
  {
   "cell_type": "code",
   "execution_count": 3,
   "metadata": {
    "collapsed": true
   },
   "outputs": [],
   "source": [
    "vocabulary=pd.read_table('voc.txt',header=None)\n",
    "df3=pd.read_csv('testing.csv',header=None)"
   ]
  },
  {
   "cell_type": "code",
   "execution_count": 4,
   "metadata": {
    "collapsed": true
   },
   "outputs": [],
   "source": [
    "#separate training set from response\n",
    "\n",
    "dftr=np.asarray(df1.iloc[0:12000,1:61189])\n",
    "newsgrouplabels=df1.iloc[0:12000,61189]\n",
    "dft=np.asarray(df3.iloc[0:6775,1:61189])\n"
   ]
  },
  {
   "cell_type": "code",
   "execution_count": 5,
   "metadata": {
    "collapsed": true
   },
   "outputs": [],
   "source": [
    "#calculating the prior probabilities\n",
    "\n",
    "def prior(response):\n",
    "    total_observation = len(response)\n",
    "    probability = dict(Counter(response))\n",
    "    for key in probability.keys():\n",
    "        probability[key] = probability[key] / float(total_observation)\n",
    "    return probability"
   ]
  },
  {
   "cell_type": "code",
   "execution_count": 6,
   "metadata": {
    "collapsed": true
   },
   "outputs": [],
   "source": [
    "prior_prob = prior(newsgrouplabels)\n",
    "#prior_prob"
   ]
  },
  {
   "cell_type": "code",
   "execution_count": 7,
   "metadata": {
    "collapsed": true
   },
   "outputs": [],
   "source": [
    "beta=1/61188\n",
    "alpha=beta+1"
   ]
  },
  {
   "cell_type": "code",
   "execution_count": 8,
   "metadata": {},
   "outputs": [
    {
     "name": "stdout",
     "output_type": "stream",
     "text": [
      "--- 6466.029932985065 seconds ---\n"
     ]
    }
   ],
   "source": [
    "#count the occurrences of the features class-wise.\n",
    "\n",
    "start_time = timeit.default_timer()\n",
    "\n",
    "groups     = np.unique(newsgrouplabels)\n",
    "rows, cols  = np.shape(dftr)\n",
    "LE = {}\n",
    "for grp in groups:\n",
    "    LE[grp] = defaultdict(list)\n",
    "\n",
    "for grp in groups:\n",
    "    l=[]\n",
    "    row_no = np.where(newsgrouplabels == grp)[0]\n",
    "    subset      = dftr[row_no, :]\n",
    "    r, c        = pd.DataFrame((subset)).shape\n",
    "    for j in range(0, c):\n",
    "        l.append((sum(subset[:,j])+(alpha-1))/((sum(pd.DataFrame(subset)))+((alpha-1))*61188))\n",
    "    LE[grp] = l\n",
    "    \n",
    "print(\"--- %s seconds ---\" % (timeit.default_timer() - start_time))"
   ]
  },
  {
   "cell_type": "code",
   "execution_count": 9,
   "metadata": {
    "collapsed": true
   },
   "outputs": [],
   "source": [
    "#classify the validate sets \n",
    "\n",
    "results = {}\n",
    "\n",
    "def classify(test_sample):\n",
    "    for cls in groups:\n",
    "        class_prob = prior_prob[cls]\n",
    "        for i in range(0,len(test_sample)):\n",
    "            if test_sample[i] > 0:\n",
    "                class_prob += math.log10(LE[cls][i])\n",
    "            else:\n",
    "                class_prob *= 1\n",
    "        results[cls] = class_prob    \n",
    "    return max(results, key=results.get)"
   ]
  },
  {
   "cell_type": "code",
   "execution_count": 10,
   "metadata": {},
   "outputs": [
    {
     "name": "stdout",
     "output_type": "stream",
     "text": [
      "--- 2657.064677434426 seconds ---\n"
     ]
    }
   ],
   "source": [
    "#classify all test data\n",
    "\n",
    "fun_dic={}\n",
    "\n",
    "start_time = timeit.default_timer()\n",
    "for fun in range(0,len(dft)):\n",
    "    fun_dic[df3.iloc[fun,0]]=classify(dft[fun,0:61188])\n",
    "    \n",
    "print(\"--- %s seconds ---\" % (timeit.default_timer() - start_time))"
   ]
  },
  {
   "cell_type": "code",
   "execution_count": 11,
   "metadata": {
    "collapsed": true
   },
   "outputs": [],
   "source": [
    "#export data to csv file\n",
    "\n",
    "d=pd.DataFrame([fun_dic])\n",
    "d=d.transpose()\n",
    "d.to_csv(\"cs579final.csv\")"
   ]
  },
  {
   "cell_type": "code",
   "execution_count": null,
   "metadata": {
    "collapsed": true
   },
   "outputs": [],
   "source": []
  },
  {
   "cell_type": "markdown",
   "metadata": {},
   "source": [
    "# confusion matrix for training data"
   ]
  },
  {
   "cell_type": "code",
   "execution_count": 15,
   "metadata": {
    "collapsed": true
   },
   "outputs": [],
   "source": [
    "#here we divide training set to 10001 for training and 1999 for validation set\n",
    "\n",
    "dft1999=dftr[10001:12000, :]\n",
    "dftr10001=dftr[0:10000, :]\n",
    "newsgrouplabels100001=newsgrouplabels[0:10000]"
   ]
  },
  {
   "cell_type": "code",
   "execution_count": null,
   "metadata": {},
   "outputs": [],
   "source": [
    "# as stated in question we keep the beta value1/61188\n",
    "\n",
    "beta=1/61188\n",
    "alpha=beta+1\n",
    "\n",
    "#count the occurrences of the features class-wise.\n",
    "\n",
    "start_time = timeit.default_timer()\n",
    "\n",
    "groups     = np.unique(newsgrouplabels100001)\n",
    "rows, cols  = np.shape(dftr10001)\n",
    "LE = {}\n",
    "for grp in groups:\n",
    "    LE[grp] = defaultdict(list)\n",
    "\n",
    "for grp in groups:\n",
    "    l=[]\n",
    "    row_no = np.where(newsgrouplabels100001 == grp)[0]\n",
    "    subset      = dftr10001[row_no, :]\n",
    "    r, c        = pd.DataFrame((subset)).shape\n",
    "    for j in range(0, c):\n",
    "        l.append((sum(subset[:,j])+(alpha-1))/((sum(pd.DataFrame(subset)))+((alpha-1))*61188))\n",
    "    LE[grp] = l\n",
    "    \n",
    "print(\"--- %s seconds ---\" % (timeit.default_timer() - start_time))\n",
    "\n",
    "#classify all test data\n",
    "\n",
    "fun_dic={}\n",
    "\n",
    "start_time = timeit.default_timer()\n",
    "for fun in range(0,len(dft1999)):\n",
    "    fun_dic[dft1999[fun,0]]=classify(dft1999[fun,0:61188])\n",
    "    \n",
    "print(\"--- %s seconds ---\" % (timeit.default_timer() - start_time))\n",
    "\n",
    "#export data to csv file\n",
    "\n",
    "d=pd.DataFrame([fun_dic])\n",
    "d=d.transpose()\n",
    "d.to_csv(\"beta.tr10001.csv\")"
   ]
  },
  {
   "cell_type": "code",
   "execution_count": null,
   "metadata": {
    "collapsed": true
   },
   "outputs": [],
   "source": [
    "from sklearn.metrics import confusion_matrix"
   ]
  },
  {
   "cell_type": "code",
   "execution_count": null,
   "metadata": {
    "collapsed": true
   },
   "outputs": [],
   "source": [
    "#after classifying the 1999 validation set we got the predicion and orginal class of 1999 document. \n",
    "\n",
    "pred2000=pd.read_csv('pred2000.csv',header=None)\n",
    "res2000=pd.read_csv('2000res.csv',header=None)"
   ]
  },
  {
   "cell_type": "code",
   "execution_count": null,
   "metadata": {
    "collapsed": true
   },
   "outputs": [],
   "source": [
    "confusion_matrix=pd.DataFrame(confusion_matrix(res2000, pred2000))"
   ]
  },
  {
   "cell_type": "code",
   "execution_count": null,
   "metadata": {
    "collapsed": true
   },
   "outputs": [],
   "source": [
    "confusion_matrix.to_csv(\"confusion_matrix2000.csv\")"
   ]
  },
  {
   "cell_type": "markdown",
   "metadata": {},
   "source": [
    "# accuracy plot with beta value"
   ]
  },
  {
   "cell_type": "code",
   "execution_count": 17,
   "metadata": {},
   "outputs": [
    {
     "data": {
      "image/png": "[encoded data removed]",
      "text/plain": [
       "<matplotlib.figure.Figure at 0x26b8518a128>"
      ]
     },
     "metadata": {},
     "output_type": "display_data"
    }
   ],
   "source": [
    "from matplotlib import pyplot\n",
    "import math\n",
    "pyplot.plot([.000000000000001,.00000000000001,.00000001,.000001,.00001,.5,.6,.9,1.0],\n",
    "             [.80728,.82728,.82019,.81310,.80690,.79716,.58990,.55594,.54413] )\n",
    "pyplot.xlabel('beta')\n",
    "pyplot.ylabel('accuracy')\n",
    "pyplot.title('Accurcy Plot With Beta')\n",
    "\n",
    "#pyplot.xscale('log')\n",
    "pyplot.xscale('log')\n",
    "\n",
    "pyplot.show()"
   ]
  },
  {
   "cell_type": "markdown",
   "metadata": {},
   "source": [
    "# calculate highest ranking word"
   ]
  },
  {
   "cell_type": "code",
   "execution_count": 18,
   "metadata": {
    "collapsed": true
   },
   "outputs": [],
   "source": [
    "pos_p=pd.DataFrame(LE)\n",
    "pos_p=pos_p.transpose()"
   ]
  },
  {
   "cell_type": "code",
   "execution_count": 19,
   "metadata": {
    "collapsed": true
   },
   "outputs": [],
   "source": [
    "#function for calculating entropy of 20*61188 matrix to get individual entropy of words.\n",
    "\n",
    "def entropy(s):\n",
    "    res = 0\n",
    "    val, counts = np.unique(s, return_counts=True)\n",
    "    freqs = counts.astype('float')/len(s)\n",
    "    for p in freqs:\n",
    "        if p != 0.0:\n",
    "            res -= p * np.log2(p)\n",
    "    return res"
   ]
  },
  {
   "cell_type": "code",
   "execution_count": 21,
   "metadata": {
    "collapsed": true
   },
   "outputs": [],
   "source": [
    "voca=list(vocabulary.iloc[1:61189,0])\n",
    "\n",
    "col_entropy={}\n",
    "\n",
    "ro,co=pos_p.shape\n",
    "\n",
    "for r in range(0,co):\n",
    "    col_entropy[voca[r]]=entropy(pos_p[r])"
   ]
  },
  {
   "cell_type": "code",
   "execution_count": 22,
   "metadata": {},
   "outputs": [],
   "source": [
    "newA = dict(sorted(col_entropy.items(), key=operator.itemgetter(1), reverse=False))"
   ]
  },
  {
   "cell_type": "code",
   "execution_count": 23,
   "metadata": {
    "collapsed": true
   },
   "outputs": [],
   "source": [
    "del_zero={x:y for x,y in newA.items() if y!=0}"
   ]
  },
  {
   "cell_type": "code",
   "execution_count": 24,
   "metadata": {},
   "outputs": [
    {
     "data": {
      "text/plain": [
       "dict_keys(['ffrf', 'postpaid', 'figmo', 'haught', 'freethought', 'aah', 'rationalist', 'islington', 'freethinker', 'ibka', 'internationaler', 'konfessionslosen', 'atheisten', 'materialien', 'informationen', 'politisches', 'konfessionslosesn', 'hrsg', 'vertrieb', 'ibdk', 'ucherdienst', 'disch', 'canticle', 'leibowitz', 'doomsday', 'blueprints', 'pangborn', 'approachable', 'healer', 'craftsmen', 'earthers', 'fernwright', 'dismissively', 'handmaid', 'theocracy', 'retroactively', 'vicars', 'enlighting', 'adulteries', 'gottes', 'diener', 'dunkle', 'seite', 'papsttums', 'droemer', 'knaur', 'refutations', 'contempory', 'platinga', 'swinburne', 'unsupportable', 'subtitled', 'secularization', 'ballantine', 'clarendon', 'trilogy', 'posthumous', 'anselm', 'sidgwick', 'restatements', 'theses', 'plantinga', 'lelie', 'axiarchism', 'refreshingly', 'anthology', 'unfathomable', 'mutations', 'johnsd', 'jec', 'unamerican', 'propogation', 'golen', 'kuweit', 'psycholgical', 'parallelism', 'bobbe', 'beauchaine', 'unswerving', 'blender', 'implanted', 'probablity', 'vehicals', 'possibilty', 'wand', 'sheltering', 'predictably', 'mauled', 'ssauyet', 'sauyet', 'feud', 'slayings', 'homophobe', 'latent', 'traits', 'abberation', 'procreation', 'genetically', 'legitimization', 'crushes'])"
      ]
     },
     "execution_count": 24,
     "metadata": {},
     "output_type": "execute_result"
    }
   ],
   "source": [
    "dict(sorted(del_zero.items(), key=operator.itemgetter(1), reverse=False)[:100]).keys()"
   ]
  },
  {
   "cell_type": "code",
   "execution_count": null,
   "metadata": {
    "collapsed": true
   },
   "outputs": [],
   "source": []
  }
 ],
 "metadata": {
  "kernelspec": {
   "display_name": "Python 3",
   "language": "python",
   "name": "python3"
  },
  "language_info": {
   "codemirror_mode": {
    "name": "ipython",
    "version": 3
   },
   "file_extension": ".py",
   "mimetype": "text/x-python",
   "name": "python",
   "nbconvert_exporter": "python",
   "pygments_lexer": "ipython3",
   "version": "3.6.3"
  }
 },
 "nbformat": 4,
 "nbformat_minor": 2
}
