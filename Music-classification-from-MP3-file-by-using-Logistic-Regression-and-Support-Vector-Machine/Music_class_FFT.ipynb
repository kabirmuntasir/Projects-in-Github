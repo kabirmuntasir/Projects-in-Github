{
 "cells": [
  {
   "cell_type": "markdown",
   "metadata": {},
   "source": [
    "# Music classfication using FFT (with 1000 coefficients)"
   ]
  },
  {
   "cell_type": "code",
   "execution_count": 38,
   "metadata": {
    "collapsed": true
   },
   "outputs": [],
   "source": [
    "# import Libraries\n",
    "import scipy\n",
    "from matplotlib.pyplot import specgram\n",
    "from scipy import io\n",
    "import scipy.io.wavfile\n",
    "import soundfile as sf\n",
    "import numpy as np\n",
    "import pandas as pd\n",
    "from scipy.fftpack import fft\n",
    "# scaling training data\n",
    "from sklearn import preprocessing\n",
    "from sklearn.preprocessing import StandardScaler\n",
    "%matplotlib inline\n",
    "import librosa\n",
    "import timeit\n",
    "import os"
   ]
  },
  {
   "cell_type": "code",
   "execution_count": 39,
   "metadata": {
    "collapsed": true
   },
   "outputs": [],
   "source": [
    "# import LR and SVM classifieres and confusion matrix\n",
    "from sklearn.linear_model import LogisticRegression\n",
    "clf_lr = LogisticRegression(random_state=0)\n",
    "\n",
    "from sklearn import svm\n",
    "clf_svm = svm.SVC()\n",
    "\n",
    "from sklearn.model_selection import train_test_split\n",
    "from sklearn.metrics import confusion_matrix"
   ]
  },
  {
   "cell_type": "markdown",
   "metadata": {},
   "source": [
    "# Using training data"
   ]
  },
  {
   "cell_type": "code",
   "execution_count": 40,
   "metadata": {},
   "outputs": [
    {
     "name": "stdout",
     "output_type": "stream",
     "text": [
      "--- 525.5462911607483 seconds ---\n"
     ]
    }
   ],
   "source": [
    "# get training data and FFT feature extraction\n",
    "fun_dict={}\n",
    "dir = 'combinedata/'\n",
    "\n",
    "start_time = timeit.default_timer()\n",
    "for root, dirs, files in os.walk(dir):\n",
    "        for name in files:\n",
    "#            print('\\t%s' % name)\n",
    "            data, samplerate = sf.read(dir+name)\n",
    "            fun_dict[name]=abs(scipy.fft(data)[:1000])\n",
    "print(\"--- %s seconds ---\" % (timeit.default_timer() - start_time))"
   ]
  },
  {
   "cell_type": "code",
   "execution_count": 41,
   "metadata": {},
   "outputs": [
    {
     "data": {
      "text/html": [
       "<div>\n",
       "<table border=\"1\" class=\"dataframe\">\n",
       "  <thead>\n",
       "    <tr style=\"text-align: right;\">\n",
       "      <th></th>\n",
       "      <th>0</th>\n",
       "      <th>1</th>\n",
       "      <th>2</th>\n",
       "      <th>3</th>\n",
       "      <th>4</th>\n",
       "      <th>5</th>\n",
       "      <th>6</th>\n",
       "      <th>7</th>\n",
       "      <th>8</th>\n",
       "      <th>9</th>\n",
       "      <th>...</th>\n",
       "      <th>990</th>\n",
       "      <th>991</th>\n",
       "      <th>992</th>\n",
       "      <th>993</th>\n",
       "      <th>994</th>\n",
       "      <th>995</th>\n",
       "      <th>996</th>\n",
       "      <th>997</th>\n",
       "      <th>998</th>\n",
       "      <th>999</th>\n",
       "    </tr>\n",
       "  </thead>\n",
       "  <tbody>\n",
       "    <tr>\n",
       "      <th>0</th>\n",
       "      <td>39.499054</td>\n",
       "      <td>18.649549</td>\n",
       "      <td>18.550576</td>\n",
       "      <td>18.529050</td>\n",
       "      <td>18.804947</td>\n",
       "      <td>18.775389</td>\n",
       "      <td>18.321803</td>\n",
       "      <td>18.401413</td>\n",
       "      <td>19.326070</td>\n",
       "      <td>17.785315</td>\n",
       "      <td>...</td>\n",
       "      <td>102.918061</td>\n",
       "      <td>187.104911</td>\n",
       "      <td>142.977607</td>\n",
       "      <td>95.976178</td>\n",
       "      <td>295.916948</td>\n",
       "      <td>450.439798</td>\n",
       "      <td>85.201265</td>\n",
       "      <td>27.386383</td>\n",
       "      <td>294.552749</td>\n",
       "      <td>144.332231</td>\n",
       "    </tr>\n",
       "    <tr>\n",
       "      <th>1</th>\n",
       "      <td>25.374573</td>\n",
       "      <td>3.949766</td>\n",
       "      <td>3.915340</td>\n",
       "      <td>3.901432</td>\n",
       "      <td>3.873195</td>\n",
       "      <td>4.018279</td>\n",
       "      <td>4.172549</td>\n",
       "      <td>4.909501</td>\n",
       "      <td>4.058086</td>\n",
       "      <td>4.112753</td>\n",
       "      <td>...</td>\n",
       "      <td>178.794649</td>\n",
       "      <td>63.280778</td>\n",
       "      <td>194.947252</td>\n",
       "      <td>483.682259</td>\n",
       "      <td>131.197313</td>\n",
       "      <td>74.365096</td>\n",
       "      <td>71.722307</td>\n",
       "      <td>131.907364</td>\n",
       "      <td>20.660168</td>\n",
       "      <td>387.110065</td>\n",
       "    </tr>\n",
       "    <tr>\n",
       "      <th>2</th>\n",
       "      <td>14.562988</td>\n",
       "      <td>1.586748</td>\n",
       "      <td>1.384224</td>\n",
       "      <td>5.455291</td>\n",
       "      <td>2.117959</td>\n",
       "      <td>2.728220</td>\n",
       "      <td>6.919267</td>\n",
       "      <td>0.590757</td>\n",
       "      <td>2.421011</td>\n",
       "      <td>3.071282</td>\n",
       "      <td>...</td>\n",
       "      <td>226.331492</td>\n",
       "      <td>44.375736</td>\n",
       "      <td>171.533997</td>\n",
       "      <td>202.789900</td>\n",
       "      <td>157.394394</td>\n",
       "      <td>229.353199</td>\n",
       "      <td>102.597505</td>\n",
       "      <td>127.086622</td>\n",
       "      <td>142.980742</td>\n",
       "      <td>28.822058</td>\n",
       "    </tr>\n",
       "    <tr>\n",
       "      <th>3</th>\n",
       "      <td>9.594940</td>\n",
       "      <td>3.382466</td>\n",
       "      <td>3.418242</td>\n",
       "      <td>3.476967</td>\n",
       "      <td>3.483144</td>\n",
       "      <td>3.555649</td>\n",
       "      <td>3.440703</td>\n",
       "      <td>3.454466</td>\n",
       "      <td>3.185912</td>\n",
       "      <td>3.327314</td>\n",
       "      <td>...</td>\n",
       "      <td>28.626326</td>\n",
       "      <td>14.534632</td>\n",
       "      <td>12.669997</td>\n",
       "      <td>16.942521</td>\n",
       "      <td>11.114742</td>\n",
       "      <td>8.052195</td>\n",
       "      <td>4.629748</td>\n",
       "      <td>17.562626</td>\n",
       "      <td>21.600578</td>\n",
       "      <td>3.891404</td>\n",
       "    </tr>\n",
       "    <tr>\n",
       "      <th>4</th>\n",
       "      <td>18.533356</td>\n",
       "      <td>0.508331</td>\n",
       "      <td>0.464261</td>\n",
       "      <td>0.438117</td>\n",
       "      <td>0.514587</td>\n",
       "      <td>0.610466</td>\n",
       "      <td>0.747763</td>\n",
       "      <td>0.747204</td>\n",
       "      <td>0.657612</td>\n",
       "      <td>0.510598</td>\n",
       "      <td>...</td>\n",
       "      <td>15.777352</td>\n",
       "      <td>6.034920</td>\n",
       "      <td>16.179422</td>\n",
       "      <td>3.516496</td>\n",
       "      <td>6.564910</td>\n",
       "      <td>11.679650</td>\n",
       "      <td>13.783429</td>\n",
       "      <td>14.582200</td>\n",
       "      <td>14.843703</td>\n",
       "      <td>12.917248</td>\n",
       "    </tr>\n",
       "  </tbody>\n",
       "</table>\n",
       "<p>5 rows × 1000 columns</p>\n",
       "</div>"
      ],
      "text/plain": [
       "         0          1          2          3          4          5    \\\n",
       "0  39.499054  18.649549  18.550576  18.529050  18.804947  18.775389   \n",
       "1  25.374573   3.949766   3.915340   3.901432   3.873195   4.018279   \n",
       "2  14.562988   1.586748   1.384224   5.455291   2.117959   2.728220   \n",
       "3   9.594940   3.382466   3.418242   3.476967   3.483144   3.555649   \n",
       "4  18.533356   0.508331   0.464261   0.438117   0.514587   0.610466   \n",
       "\n",
       "         6          7          8          9       ...             990  \\\n",
       "0  18.321803  18.401413  19.326070  17.785315     ...      102.918061   \n",
       "1   4.172549   4.909501   4.058086   4.112753     ...      178.794649   \n",
       "2   6.919267   0.590757   2.421011   3.071282     ...      226.331492   \n",
       "3   3.440703   3.454466   3.185912   3.327314     ...       28.626326   \n",
       "4   0.747763   0.747204   0.657612   0.510598     ...       15.777352   \n",
       "\n",
       "          991         992         993         994         995         996  \\\n",
       "0  187.104911  142.977607   95.976178  295.916948  450.439798   85.201265   \n",
       "1   63.280778  194.947252  483.682259  131.197313   74.365096   71.722307   \n",
       "2   44.375736  171.533997  202.789900  157.394394  229.353199  102.597505   \n",
       "3   14.534632   12.669997   16.942521   11.114742    8.052195    4.629748   \n",
       "4    6.034920   16.179422    3.516496    6.564910   11.679650   13.783429   \n",
       "\n",
       "          997         998         999  \n",
       "0   27.386383  294.552749  144.332231  \n",
       "1  131.907364   20.660168  387.110065  \n",
       "2  127.086622  142.980742   28.822058  \n",
       "3   17.562626   21.600578    3.891404  \n",
       "4   14.582200   14.843703   12.917248  \n",
       "\n",
       "[5 rows x 1000 columns]"
      ]
     },
     "execution_count": 41,
     "metadata": {},
     "output_type": "execute_result"
    }
   ],
   "source": [
    "# convert dictionary to  dataframe\n",
    "df=pd.DataFrame(fun_dict)\n",
    "df2=df.transpose()\n",
    "l=df2.index\n",
    "class_response = pd.DataFrame(l.str.split('.',1).tolist(),columns = ['response','rest']) # get labels of the song\n",
    "df2.index = range(0,len(df2)) #training dataset without class response\n",
    "df2.head()"
   ]
  },
  {
   "cell_type": "code",
   "execution_count": 42,
   "metadata": {
    "collapsed": true
   },
   "outputs": [],
   "source": [
    "# scaling of traing data with standard scalar\n",
    "scaler=StandardScaler()\n",
    "train_fftdata =pd.DataFrame(df2)\n",
    "scaler.fit(train_fftdata)\n",
    "scaled_train_data = scaler.transform(train_fftdata)"
   ]
  },
  {
   "cell_type": "code",
   "execution_count": 43,
   "metadata": {
    "collapsed": true
   },
   "outputs": [],
   "source": [
    "# assign new variables namely X and y for taining features and labels\n",
    "X = scaled_train_data\n",
    "y = class_response.response"
   ]
  },
  {
   "cell_type": "code",
   "execution_count": 44,
   "metadata": {
    "collapsed": true
   },
   "outputs": [],
   "source": [
    "# run train test split for the training data\n",
    "test_sz = 0.3 # test size\n",
    "X_train, X_test, y_train, y_test = train_test_split(X, y, test_size=test_sz, random_state=42)"
   ]
  },
  {
   "cell_type": "code",
   "execution_count": 45,
   "metadata": {},
   "outputs": [
    {
     "data": {
      "text/plain": [
       "array([[11,  3,  3,  1,  0,  2,  1,  4,  4,  1],\n",
       "       [ 0, 14,  3,  0,  0,  1,  0,  0,  0,  0],\n",
       "       [ 1,  0, 13,  5,  0,  0,  0,  0,  4,  2],\n",
       "       [ 0,  5,  9,  4,  0,  4,  2,  2,  5,  2],\n",
       "       [ 3,  2,  3,  4,  6,  3,  5,  4,  2,  3],\n",
       "       [ 2,  6,  4,  1,  0, 15,  0,  0,  2,  3],\n",
       "       [ 1,  1,  4,  2,  1,  3,  4,  4,  2,  4],\n",
       "       [ 1,  1,  1,  2,  2,  2,  3,  6,  4,  0],\n",
       "       [ 1,  0,  3,  1,  1,  0,  3,  2,  9,  4],\n",
       "       [ 1,  0,  4,  2,  1,  1,  3,  1,  7,  4]])"
      ]
     },
     "execution_count": 45,
     "metadata": {},
     "output_type": "execute_result"
    }
   ],
   "source": [
    "# logistic regression (LR)\n",
    "clf_lr.fit(X_train,y_train) # train the classifier:\n",
    "y_pred = clf_lr.predict(X_test) # predict levels\n",
    "cnf_matrix = confusion_matrix(y_test, y_pred) # Confusion matrix\n",
    "cnf_matrix"
   ]
  },
  {
   "cell_type": "code",
   "execution_count": 46,
   "metadata": {},
   "outputs": [
    {
     "data": {
      "text/plain": [
       "array([[ 4, 13,  0,  0,  5,  0,  3,  4,  1,  0],\n",
       "       [ 0, 16,  1,  0,  0,  0,  1,  0,  0,  0],\n",
       "       [ 0, 14,  0,  0,  0,  0,  0,  3,  8,  0],\n",
       "       [ 0, 17,  4,  0,  1,  0,  1,  5,  5,  0],\n",
       "       [ 0, 10,  6,  0,  7,  0,  4,  6,  2,  0],\n",
       "       [ 0, 18,  3,  0,  1,  7,  1,  0,  3,  0],\n",
       "       [ 0,  9,  0,  0,  1,  0,  2, 10,  4,  0],\n",
       "       [ 0,  2,  3,  0,  3,  0,  3,  8,  3,  0],\n",
       "       [ 0,  4,  1,  0,  2,  0,  1,  7,  9,  0],\n",
       "       [ 0, 10,  1,  0,  1,  0,  0,  3,  9,  0]])"
      ]
     },
     "execution_count": 46,
     "metadata": {},
     "output_type": "execute_result"
    }
   ],
   "source": [
    "# SVM\n",
    "clf_svm.fit(X_train,y_train) # train your classifier: SVM\n",
    "y_pred = clf_svm.predict(X_test) # predict levels\n",
    "cnf_matrix = confusion_matrix(y_test, y_pred) # Confusion matrix\n",
    "cnf_matrix "
   ]
  },
  {
   "cell_type": "code",
   "execution_count": 47,
   "metadata": {
    "collapsed": true
   },
   "outputs": [],
   "source": [
    "# function of drawing confusion matrix\n",
    "import matplotlib.pyplot as plt\n",
    "import itertools\n",
    "def plot_confusion_matrix(cm, classes,\n",
    "                          normalize=False,\n",
    "                          title='Confusion matrix',\n",
    "                          cmap=plt.cm.Blues):\n",
    "    \"\"\"\n",
    "    This function prints and plots the confusion matrix.\n",
    "    Normalization can be applied by setting `normalize=True`.\n",
    "    \"\"\"\n",
    "    if normalize:\n",
    "        cm = cm.astype('float') / cm.sum(axis=1)[:, np.newaxis]\n",
    "        print(\"Normalized confusion matrix\")\n",
    "    else:\n",
    "        print('Confusion matrix, without normalization')\n",
    "\n",
    "    print(cm)\n",
    "\n",
    "    plt.imshow(cm, interpolation='nearest', cmap=cmap)#'viridis')\n",
    "    plt.title(title)\n",
    "    plt.colorbar()\n",
    "    tick_marks = np.arange(len(classes))\n",
    "    plt.xticks(tick_marks, classes, rotation=45)\n",
    "    plt.yticks(tick_marks, classes)\n",
    "\n",
    "    fmt = '.2f' if normalize else 'd'\n",
    "    thresh = cm.max() / 2.\n",
    "    for i, j in itertools.product(range(cm.shape[0]), range(cm.shape[1])):\n",
    "        plt.text(j, i, format(cm[i, j], fmt),\n",
    "                 horizontalalignment=\"center\",\n",
    "                 color=\"white\" if cm[i, j] > thresh else \"black\")\n",
    "\n",
    "    plt.tight_layout()\n",
    "    plt.ylabel('True label')\n",
    "    plt.xlabel('Predicted label')"
   ]
  },
  {
   "cell_type": "code",
   "execution_count": 48,
   "metadata": {},
   "outputs": [
    {
     "name": "stdout",
     "output_type": "stream",
     "text": [
      "Confusion matrix, without normalization\n",
      "[[ 4 13  0  0  5  0  3  4  1  0]\n",
      " [ 0 16  1  0  0  0  1  0  0  0]\n",
      " [ 0 14  0  0  0  0  0  3  8  0]\n",
      " [ 0 17  4  0  1  0  1  5  5  0]\n",
      " [ 0 10  6  0  7  0  4  6  2  0]\n",
      " [ 0 18  3  0  1  7  1  0  3  0]\n",
      " [ 0  9  0  0  1  0  2 10  4  0]\n",
      " [ 0  2  3  0  3  0  3  8  3  0]\n",
      " [ 0  4  1  0  2  0  1  7  9  0]\n",
      " [ 0 10  1  0  1  0  0  3  9  0]]\n"
     ]
    },
    {
     "data": {
      "image/png": "[encoded data removed]",
      "text/plain": [
       "<matplotlib.figure.Figure at 0xd99b6a0>"
      ]
     },
     "metadata": {},
     "output_type": "display_data"
    }
   ],
   "source": [
    "# Plot non-normalized confusion matrix\n",
    "label = ['blues','classical','country','disco','hiphop','jazz','metal','pop','reggae','rock'] # class labels\n",
    "fig=plt.figure()\n",
    "plot_confusion_matrix(cnf_matrix, classes=label, title='Confusion matrix, without normalization')\n",
    "fig.set_size_inches(12, 10)\n",
    "ax = fig.add_subplot(111)\n",
    "plt.show()\n",
    "#fig.savefig('confusion_mat_LR_feature2.eps')  # save figure"
   ]
  },
  {
   "cell_type": "markdown",
   "metadata": {},
   "source": [
    "# 10 fold cross validation of the training data"
   ]
  },
  {
   "cell_type": "code",
   "execution_count": 49,
   "metadata": {
    "collapsed": true
   },
   "outputs": [],
   "source": [
    "# import CV libraries\n",
    "from sklearn.model_selection import KFold\n",
    "from sklearn.metrics import accuracy_score\n",
    "kf = KFold(n_splits=10,shuffle=True,random_state=0)"
   ]
  },
  {
   "cell_type": "code",
   "execution_count": 50,
   "metadata": {},
   "outputs": [
    {
     "name": "stdout",
     "output_type": "stream",
     "text": [
      "Accuracy: 0.233333333333\n",
      "Accuracy: 0.222222222222\n",
      "Accuracy: 0.311111111111\n",
      "Accuracy: 0.333333333333\n",
      "Accuracy: 0.311111111111\n",
      "Accuracy: 0.211111111111\n",
      "Accuracy: 0.211111111111\n",
      "Accuracy: 0.266666666667\n",
      "Accuracy: 0.322222222222\n",
      "Accuracy: 0.255555555556\n"
     ]
    }
   ],
   "source": [
    "X_c = scaled_train_data\n",
    "y_c = y\n",
    "df_cv = pd.DataFrame(X_c)\n",
    "df_cv['label'] = y_c\n",
    "train_index_all = np.zeros((10,810))\n",
    "l = 0\n",
    "sum = 0\n",
    "for train_index, test_index in kf.split(df_cv):\n",
    "    #print(\"TRAIN:\", train_index.shape, \"TEST:\", test_index.shape)\n",
    "    train_index_all[l,:] = train_index\n",
    "    l = l + 1\n",
    "    train_data_cv = X_c[train_index]\n",
    "    label_train_cv = y_c[train_index]\n",
    "    test_data_cv = X_c[test_index]\n",
    "    label_test_cv = y_c[test_index]\n",
    "    clf_svm.fit(train_data_cv,label_train_cv)\n",
    "    y_pred_cv = clf_svm.predict(test_data_cv)\n",
    "    y_true = label_test_cv\n",
    "    y_pred = y_pred_cv\n",
    "    print(\"Accuracy:\",accuracy_score(y_true, y_pred))\n",
    "    sum +=accuracy_score(y_true, y_pred)\n",
    "    #sum += nltk.classify.accuracy(classifier, test_data)\n",
    "average = sum/10.0"
   ]
  },
  {
   "cell_type": "markdown",
   "metadata": {
    "collapsed": true
   },
   "source": [
    "# Using test data"
   ]
  },
  {
   "cell_type": "code",
   "execution_count": 51,
   "metadata": {
    "collapsed": true
   },
   "outputs": [],
   "source": [
    "# get tesing data and FFT feature extraction\n",
    "test_dict={}\n",
    "test_directory = './validation/rename'\n",
    "import os\n",
    "for root, dirs, files in os.walk(test_directory):\n",
    "    for name in files:\n",
    "#        print(name)\n",
    "        data, samplerate = sf.read(test_directory+'/'+name)\n",
    "        test_dict[name]=abs(scipy.fft(data)[:1000])"
   ]
  },
  {
   "cell_type": "code",
   "execution_count": 52,
   "metadata": {
    "collapsed": true
   },
   "outputs": [],
   "source": [
    "# convert dictionary to  dataframe (validation Data) \n",
    "test_data=pd.DataFrame(test_dict)\n",
    "test_data=test_data.transpose()\n",
    "test_data.index = range(0,len(test_data))"
   ]
  },
  {
   "cell_type": "code",
   "execution_count": 53,
   "metadata": {
    "collapsed": true
   },
   "outputs": [],
   "source": [
    "# scaling\n",
    "test_data_scaled =pd.DataFrame(test_data)\n",
    "scaler=StandardScaler()\n",
    "scaler.fit(test_data_scaled)\n",
    "scaled_test_data=scaler.transform(test_data_scaled)"
   ]
  },
  {
   "cell_type": "code",
   "execution_count": 27,
   "metadata": {},
   "outputs": [],
   "source": [
    "# predict test data classes with logistic regression (LR) and save the results in excel file\n",
    "clf_lr.fit(X,y)\n",
    "lr_pred = clf_lr.predict(scaled_test_data)\n",
    "df = pd.DataFrame(list(lr_pred))\n",
    "df.to_excel('output.xlsx', header='class', index=False)"
   ]
  },
  {
   "cell_type": "code",
   "execution_count": 28,
   "metadata": {
    "collapsed": true
   },
   "outputs": [],
   "source": [
    "# predict test data classes with SVM and save the results in excel file\n",
    "clf_svm.fit(X,y)\n",
    "svc_pred = clf_svm.predict(scaled_test_data)\n",
    "df = pd.DataFrame(list(svc_pred))\n",
    "df.to_excel('output.xlsx', header='class', index=False)"
   ]
  }
 ],
 "metadata": {
  "kernelspec": {
   "display_name": "Python 3",
   "language": "python",
   "name": "python3"
  },
  "language_info": {
   "codemirror_mode": {
    "name": "ipython",
    "version": 3
   },
   "file_extension": ".py",
   "mimetype": "text/x-python",
   "name": "python",
   "nbconvert_exporter": "python",
   "pygments_lexer": "ipython3",
   "version": "3.6.3"
  }
 },
 "nbformat": 4,
 "nbformat_minor": 2
}
