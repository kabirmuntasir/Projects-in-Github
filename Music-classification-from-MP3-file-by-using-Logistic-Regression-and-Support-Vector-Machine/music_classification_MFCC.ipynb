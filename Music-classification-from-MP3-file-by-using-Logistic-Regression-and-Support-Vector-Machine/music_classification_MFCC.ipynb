{
 "cells": [
  {
   "cell_type": "markdown",
   "metadata": {},
   "source": [
    "# Music classfication using MFCC (mean of 13 MFCC features)"
   ]
  },
  {
   "cell_type": "code",
   "execution_count": 2,
   "metadata": {
    "collapsed": true
   },
   "outputs": [],
   "source": [
    "# import Libraries\n",
    "import scipy\n",
    "from matplotlib.pyplot import specgram\n",
    "from scipy import io\n",
    "import scipy.io.wavfile\n",
    "import soundfile as sf\n",
    "import numpy as np\n",
    "import pandas as pd\n",
    "from scipy.fftpack import fft\n",
    "from sklearn import preprocessing\n",
    "from sklearn.preprocessing import StandardScaler\n",
    "%matplotlib inline\n",
    "import librosa\n",
    "import timeit\n",
    "import os"
   ]
  },
  {
   "cell_type": "code",
   "execution_count": 3,
   "metadata": {
    "collapsed": true
   },
   "outputs": [],
   "source": [
    "# import LR and SVM classifieres and confusion matrix\n",
    "from sklearn.linear_model import LogisticRegression\n",
    "clf_lr = LogisticRegression(random_state=0)\n",
    "\n",
    "from sklearn import svm\n",
    "clf_svm = svm.SVC()\n",
    "\n",
    "from sklearn.model_selection import train_test_split\n",
    "from sklearn.metrics import confusion_matrix"
   ]
  },
  {
   "cell_type": "markdown",
   "metadata": {},
   "source": [
    "# Using training data"
   ]
  },
  {
   "cell_type": "code",
   "execution_count": 4,
   "metadata": {},
   "outputs": [
    {
     "name": "stdout",
     "output_type": "stream",
     "text": [
      "--- 52.38643068148055 seconds ---\n"
     ]
    }
   ],
   "source": [
    "# get training data and MFCC feature extraction\n",
    "fun_dict1={}\n",
    "dir = 'combinedata/'\n",
    "\n",
    "start_time = timeit.default_timer()\n",
    "for root, dirs, files in os.walk(dir):\n",
    "        for name in files:\n",
    "            data, samplerate = sf.read(dir+name)\n",
    "            mfcc_transpose = mfcc.transpose()\n",
    "            num_ceps = mfcc_transpose.shape[0]\n",
    "            fun_dict1[name]=mfcc_transpose[int(num_ceps*1/10):int(num_ceps*9/10)].mean(axis=0) \n",
    "        \n",
    "print(\"--- %s seconds ---\" % (timeit.default_timer() - start_time))"
   ]
  },
  {
   "cell_type": "code",
   "execution_count": 47,
   "metadata": {},
   "outputs": [
    {
     "data": {
      "text/html": [
       "<div>\n",
       "<table border=\"1\" class=\"dataframe\">\n",
       "  <thead>\n",
       "    <tr style=\"text-align: right;\">\n",
       "      <th></th>\n",
       "      <th>0</th>\n",
       "      <th>1</th>\n",
       "      <th>2</th>\n",
       "      <th>3</th>\n",
       "      <th>4</th>\n",
       "      <th>5</th>\n",
       "      <th>6</th>\n",
       "      <th>7</th>\n",
       "      <th>8</th>\n",
       "      <th>9</th>\n",
       "      <th>10</th>\n",
       "      <th>11</th>\n",
       "    </tr>\n",
       "  </thead>\n",
       "  <tbody>\n",
       "    <tr>\n",
       "      <th>0</th>\n",
       "      <td>-111.997148</td>\n",
       "      <td>121.238132</td>\n",
       "      <td>-17.750105</td>\n",
       "      <td>41.854080</td>\n",
       "      <td>-7.798288</td>\n",
       "      <td>18.580311</td>\n",
       "      <td>-13.362260</td>\n",
       "      <td>15.746927</td>\n",
       "      <td>-12.519051</td>\n",
       "      <td>11.710580</td>\n",
       "      <td>-7.962342</td>\n",
       "      <td>9.194592</td>\n",
       "    </tr>\n",
       "    <tr>\n",
       "      <th>1</th>\n",
       "      <td>-199.126220</td>\n",
       "      <td>124.311799</td>\n",
       "      <td>7.815542</td>\n",
       "      <td>34.918110</td>\n",
       "      <td>1.114070</td>\n",
       "      <td>20.905914</td>\n",
       "      <td>-10.308863</td>\n",
       "      <td>23.485749</td>\n",
       "      <td>-11.506881</td>\n",
       "      <td>12.558936</td>\n",
       "      <td>-6.550804</td>\n",
       "      <td>5.311981</td>\n",
       "    </tr>\n",
       "    <tr>\n",
       "      <th>2</th>\n",
       "      <td>-89.878456</td>\n",
       "      <td>142.878391</td>\n",
       "      <td>-29.662242</td>\n",
       "      <td>31.957704</td>\n",
       "      <td>-14.044570</td>\n",
       "      <td>25.146260</td>\n",
       "      <td>-13.429581</td>\n",
       "      <td>11.417018</td>\n",
       "      <td>-11.762054</td>\n",
       "      <td>9.552929</td>\n",
       "      <td>-12.685950</td>\n",
       "      <td>5.509914</td>\n",
       "    </tr>\n",
       "    <tr>\n",
       "      <th>3</th>\n",
       "      <td>-197.056464</td>\n",
       "      <td>149.377025</td>\n",
       "      <td>5.019639</td>\n",
       "      <td>26.605005</td>\n",
       "      <td>0.949209</td>\n",
       "      <td>14.356635</td>\n",
       "      <td>-5.337457</td>\n",
       "      <td>9.811323</td>\n",
       "      <td>-0.671175</td>\n",
       "      <td>8.977702</td>\n",
       "      <td>-2.662427</td>\n",
       "      <td>5.852935</td>\n",
       "    </tr>\n",
       "    <tr>\n",
       "      <th>4</th>\n",
       "      <td>-159.281609</td>\n",
       "      <td>123.798871</td>\n",
       "      <td>-35.641670</td>\n",
       "      <td>22.123774</td>\n",
       "      <td>-32.624306</td>\n",
       "      <td>11.247513</td>\n",
       "      <td>-23.257060</td>\n",
       "      <td>1.525912</td>\n",
       "      <td>-12.368521</td>\n",
       "      <td>1.780876</td>\n",
       "      <td>-13.537640</td>\n",
       "      <td>-2.735035</td>\n",
       "    </tr>\n",
       "  </tbody>\n",
       "</table>\n",
       "</div>"
      ],
      "text/plain": [
       "           0           1          2          3          4          5   \\\n",
       "0 -111.997148  121.238132 -17.750105  41.854080  -7.798288  18.580311   \n",
       "1 -199.126220  124.311799   7.815542  34.918110   1.114070  20.905914   \n",
       "2  -89.878456  142.878391 -29.662242  31.957704 -14.044570  25.146260   \n",
       "3 -197.056464  149.377025   5.019639  26.605005   0.949209  14.356635   \n",
       "4 -159.281609  123.798871 -35.641670  22.123774 -32.624306  11.247513   \n",
       "\n",
       "          6          7          8          9          10        11  \n",
       "0 -13.362260  15.746927 -12.519051  11.710580  -7.962342  9.194592  \n",
       "1 -10.308863  23.485749 -11.506881  12.558936  -6.550804  5.311981  \n",
       "2 -13.429581  11.417018 -11.762054   9.552929 -12.685950  5.509914  \n",
       "3  -5.337457   9.811323  -0.671175   8.977702  -2.662427  5.852935  \n",
       "4 -23.257060   1.525912 -12.368521   1.780876 -13.537640 -2.735035  "
      ]
     },
     "execution_count": 47,
     "metadata": {},
     "output_type": "execute_result"
    }
   ],
   "source": [
    "# convert dictionary to  dataframe : making data frame of the training for further processing using Pandas\n",
    "df2 = pd.DataFrame(fun_dict1)\n",
    "df3 = df2.transpose()\n",
    "l = df3.index \n",
    "class_response = pd.DataFrame(l.str.split('.',1).tolist(),columns = ['response','rest']) # get labels of the song\n",
    "df3.index = range(0,len(df3)) #training dataset without class response\n",
    "df3.head()"
   ]
  },
  {
   "cell_type": "code",
   "execution_count": 20,
   "metadata": {},
   "outputs": [],
   "source": [
    "# scaling of traing data with standard scalar\n",
    "train_data = df3\n",
    "train_mfccdata =pd.DataFrame(train_data)\n",
    "scaler=StandardScaler()\n",
    "scaler.fit(train_mfccdata)\n",
    "scaled_train_data=scaler.transform(train_mfccdata)"
   ]
  },
  {
   "cell_type": "code",
   "execution_count": 26,
   "metadata": {},
   "outputs": [],
   "source": [
    "# assign new variables namely X and y for taining features and labels\n",
    "X = scaled_train_data\n",
    "y = class_response.response"
   ]
  },
  {
   "cell_type": "code",
   "execution_count": 48,
   "metadata": {
    "collapsed": true
   },
   "outputs": [],
   "source": [
    "# run train test split for the training data\n",
    "test_sz = 0.3 # test size\n",
    "X_train, X_test, y_train, y_test = train_test_split(X, y, test_size=test_sz, random_state=42)"
   ]
  },
  {
   "cell_type": "code",
   "execution_count": 31,
   "metadata": {},
   "outputs": [
    {
     "data": {
      "text/plain": [
       "array([[12,  1,  0,  3,  0,  0,  5,  0,  0,  9],\n",
       "       [ 0, 15,  0,  0,  0,  0,  0,  0,  1,  2],\n",
       "       [ 5,  1, 12,  0,  0,  2,  0,  2,  1,  2],\n",
       "       [ 2,  0,  2, 12,  1,  0,  3,  6,  2,  5],\n",
       "       [ 0,  2,  4,  3,  8,  0,  8,  3,  6,  1],\n",
       "       [ 2,  6,  2,  1,  3, 11,  0,  1,  3,  4],\n",
       "       [ 2,  0,  0,  0,  0,  0, 23,  0,  1,  0],\n",
       "       [ 0,  0,  1,  0,  0,  0,  0, 19,  1,  1],\n",
       "       [ 2,  0,  2,  0,  1,  0,  1,  2, 14,  2],\n",
       "       [ 4,  0,  2,  7,  1,  0,  4,  0,  1,  5]])"
      ]
     },
     "execution_count": 31,
     "metadata": {},
     "output_type": "execute_result"
    }
   ],
   "source": [
    "# logistic regression (LR)\n",
    "clf_lr.fit(X_train,y_train) # train the classifier: \n",
    "y_pred = clf_lr.predict(X_test) # predict levels\n",
    "cnf_matrix = confusion_matrix(y_test, y_pred) # Confusion matrix\n",
    "cnf_matrix"
   ]
  },
  {
   "cell_type": "code",
   "execution_count": 32,
   "metadata": {},
   "outputs": [
    {
     "data": {
      "text/plain": [
       "array([[17,  1,  0,  3,  0,  0,  5,  0,  0,  4],\n",
       "       [ 0, 16,  0,  0,  0,  0,  0,  0,  1,  1],\n",
       "       [ 2,  1, 14,  2,  0,  2,  0,  0,  1,  3],\n",
       "       [ 0,  0,  2, 16,  1,  0,  2,  5,  1,  6],\n",
       "       [ 0,  0,  4,  5, 14,  0,  8,  1,  2,  1],\n",
       "       [ 0,  6,  3,  3,  3, 13,  0,  0,  3,  2],\n",
       "       [ 3,  0,  0,  0,  0,  0, 22,  0,  1,  0],\n",
       "       [ 0,  0,  2,  0,  1,  0,  0, 18,  0,  1],\n",
       "       [ 1,  0,  1,  2,  5,  1,  1,  2,  9,  2],\n",
       "       [ 0,  0,  1,  3,  1,  0,  4,  0,  2, 13]])"
      ]
     },
     "execution_count": 32,
     "metadata": {},
     "output_type": "execute_result"
    }
   ],
   "source": [
    "# SVM\n",
    "clf_svm.fit(X_train,y_train) # train your classifier:\n",
    "y_pred = clf_svm.predict(X_test) # predict levels\n",
    "cnf_matrix = confusion_matrix(y_test, y_pred) # Confusion matrix\n",
    "cnf_matrix"
   ]
  },
  {
   "cell_type": "code",
   "execution_count": 36,
   "metadata": {},
   "outputs": [],
   "source": [
    "# function of drawing confusion matrix\n",
    "import matplotlib.pyplot as plt\n",
    "import itertools\n",
    "def plot_confusion_matrix(cm, classes,\n",
    "                          normalize=False,\n",
    "                          title='Confusion matrix',\n",
    "                          cmap=plt.cm.Blues):\n",
    "    \"\"\"\n",
    "    This function prints and plots the confusion matrix.\n",
    "    Normalization can be applied by setting `normalize=True`.\n",
    "    \"\"\"\n",
    "    if normalize:\n",
    "        cm = cm.astype('float') / cm.sum(axis=1)[:, np.newaxis]\n",
    "        print(\"Normalized confusion matrix\")\n",
    "    else:\n",
    "        print('Confusion matrix, without normalization')\n",
    "\n",
    "    print(cm)\n",
    "\n",
    "    plt.imshow(cm, interpolation='nearest', cmap=cmap)#'viridis')\n",
    "    plt.title(title)\n",
    "    plt.colorbar()\n",
    "    tick_marks = np.arange(len(classes))\n",
    "    plt.xticks(tick_marks, classes, rotation=45)\n",
    "    plt.yticks(tick_marks, classes)\n",
    "\n",
    "    fmt = '.2f' if normalize else 'd'\n",
    "    thresh = cm.max() / 2.\n",
    "    for i, j in itertools.product(range(cm.shape[0]), range(cm.shape[1])):\n",
    "        plt.text(j, i, format(cm[i, j], fmt),\n",
    "                 horizontalalignment=\"center\",\n",
    "                 color=\"white\" if cm[i, j] > thresh else \"black\")\n",
    "\n",
    "    plt.tight_layout()\n",
    "    plt.ylabel('True label')\n",
    "    plt.xlabel('Predicted label')"
   ]
  },
  {
   "cell_type": "code",
   "execution_count": 37,
   "metadata": {},
   "outputs": [
    {
     "name": "stdout",
     "output_type": "stream",
     "text": [
      "Confusion matrix, without normalization\n",
      "[[17  1  0  3  0  0  5  0  0  4]\n",
      " [ 0 16  0  0  0  0  0  0  1  1]\n",
      " [ 2  1 14  2  0  2  0  0  1  3]\n",
      " [ 0  0  2 16  1  0  2  5  1  6]\n",
      " [ 0  0  4  5 14  0  8  1  2  1]\n",
      " [ 0  6  3  3  3 13  0  0  3  2]\n",
      " [ 3  0  0  0  0  0 22  0  1  0]\n",
      " [ 0  0  2  0  1  0  0 18  0  1]\n",
      " [ 1  0  1  2  5  1  1  2  9  2]\n",
      " [ 0  0  1  3  1  0  4  0  2 13]]\n"
     ]
    },
    {
     "data": {
      "image/png": "[encoded data removed]",
      "text/plain": [
       "<matplotlib.figure.Figure at 0xcaf0898>"
      ]
     },
     "metadata": {},
     "output_type": "display_data"
    }
   ],
   "source": [
    "# Plot non-normalized confusion matrix\n",
    "label = ['blues','classical','country','disco','hiphop','jazz','metal','pop','reggae','rock'] # class labels\n",
    "fig=plt.figure()\n",
    "plot_confusion_matrix(cnf_matrix, classes=label, title='Confusion matrix, without normalization')\n",
    "fig.set_size_inches(12, 10)\n",
    "ax = fig.add_subplot(111)\n",
    "plt.show()\n",
    "#fig.savefig('confusion_mat_LR_feature2.eps')  # save figure"
   ]
  },
  {
   "cell_type": "markdown",
   "metadata": {},
   "source": [
    "# 10 fold cross validation of the training data"
   ]
  },
  {
   "cell_type": "code",
   "execution_count": 44,
   "metadata": {
    "collapsed": true
   },
   "outputs": [],
   "source": [
    "from sklearn.model_selection import KFold\n",
    "from sklearn.metrics import accuracy_score\n",
    "kf = KFold(n_splits=10,shuffle=True,random_state=0)"
   ]
  },
  {
   "cell_type": "code",
   "execution_count": 45,
   "metadata": {},
   "outputs": [
    {
     "name": "stdout",
     "output_type": "stream",
     "text": [
      "Accuracy: 0.555555555556\n",
      "Accuracy: 0.544444444444\n",
      "Accuracy: 0.644444444444\n",
      "Accuracy: 0.633333333333\n",
      "Accuracy: 0.555555555556\n",
      "Accuracy: 0.655555555556\n",
      "Accuracy: 0.511111111111\n",
      "Accuracy: 0.544444444444\n",
      "Accuracy: 0.566666666667\n",
      "Accuracy: 0.611111111111\n"
     ]
    }
   ],
   "source": [
    "X_c = scaled_train_data\n",
    "y_c = y\n",
    "df_cv = pd.DataFrame(X_c)\n",
    "df_cv['label'] = y_c\n",
    "train_index_all = np.zeros((10,810))\n",
    "l = 0\n",
    "sum = 0\n",
    "for train_index, test_index in kf.split(df_cv):\n",
    "    #print(\"TRAIN:\", train_index.shape, \"TEST:\", test_index.shape)\n",
    "    train_index_all[l,:] = train_index\n",
    "    l = l + 1\n",
    "    train_data_cv = X_c[train_index]\n",
    "    label_train_cv = y_c[train_index]\n",
    "    test_data_cv = X_c[test_index]\n",
    "    label_test_cv = y_c[test_index]\n",
    "    clf_svm.fit(train_data_cv,label_train_cv)\n",
    "    y_pred_cv = clf_svm.predict(test_data_cv)\n",
    "    y_true = label_test_cv\n",
    "    y_pred = y_pred_cv\n",
    "    print(\"Accuracy:\",accuracy_score(y_true, y_pred))\n",
    "    sum +=accuracy_score(y_true, y_pred)\n",
    "    #sum += nltk.classify.accuracy(classifier, test_data)\n",
    "average = sum/10.0"
   ]
  },
  {
   "cell_type": "markdown",
   "metadata": {},
   "source": [
    "# Using test data"
   ]
  },
  {
   "cell_type": "code",
   "execution_count": 39,
   "metadata": {},
   "outputs": [],
   "source": [
    "# get tesing data and MFCC feature extraction\n",
    "fun_dict2={}\n",
    "test_directory = './validation/rename'\n",
    "for root, dirs, files in os.walk(test_directory):\n",
    "    for name in files:\n",
    "        data, samplerate = sf.read(test_directory+'/'+name)\n",
    "        mfcc = librosa.feature.mfcc(y=data, sr=samplerate,n_mfcc=12)\n",
    "        mfcc_transpose = mfcc.transpose()\n",
    "        num_ceps = mfcc_transpose.shape[0]\n",
    "        fun_dict2[name]=mfcc_transpose[int(num_ceps*1/10):int(num_ceps*9/10)].mean(axis=0)"
   ]
  },
  {
   "cell_type": "code",
   "execution_count": 40,
   "metadata": {},
   "outputs": [],
   "source": [
    "# convert dictionary to  dataframe\n",
    "test_data2=pd.DataFrame(fun_dict2)\n",
    "test_data2=test_data2.transpose()\n",
    "test_data2.index = range(0,len(test_data2))\n",
    "\n",
    "# scaling of traing data\n",
    "test_data2_scaled =pd.DataFrame(test_data2)\n",
    "scaler=StandardScaler()\n",
    "scaler.fit(test_data2_scaled)\n",
    "scaled_test_data2=scaler.transform(test_data2_scaled)"
   ]
  },
  {
   "cell_type": "code",
   "execution_count": 41,
   "metadata": {
    "collapsed": true
   },
   "outputs": [],
   "source": [
    "# predict test data classes with logistic regression (LR) and save the results in excel file\n",
    "clf_lr.fit(X,y) # X = train data, y = train level\n",
    "lr_pred = clf_lr.predict(scaled_test_data2)\n",
    "df = pd.DataFrame(list(lr_pred))\n",
    "df.to_excel('output_lr.xlsx', header='class', index=False)"
   ]
  },
  {
   "cell_type": "code",
   "execution_count": 42,
   "metadata": {},
   "outputs": [],
   "source": [
    "# predict test data classes with SVM and save the results in excel file\n",
    "clf_svm.fit(X,y)\n",
    "svc_pred = clf_svm.predict(scaled_test_data2)\n",
    "df = pd.DataFrame(list(svc_pred))\n",
    "df.to_excel('output_svc.xlsx', header='class', index=False)"
   ]
  },
  {
   "cell_type": "markdown",
   "metadata": {},
   "source": [
    "# Use those training data with good accuracy for training"
   ]
  },
  {
   "cell_type": "code",
   "execution_count": 46,
   "metadata": {},
   "outputs": [],
   "source": [
    "results_index = [int(i) for i in list(train_index_all[9,])] # training set index with good accuracy from CV\n",
    "X_new = scaled_train_data[results_index]\n",
    "y_new = y[results_index]"
   ]
  },
  {
   "cell_type": "code",
   "execution_count": 59,
   "metadata": {},
   "outputs": [
    {
     "data": {
      "text/plain": [
       "SVC(C=1.0, cache_size=200, class_weight=None, coef0=0.0,\n",
       "  decision_function_shape=None, degree=3, gamma='auto', kernel='rbf',\n",
       "  max_iter=-1, probability=False, random_state=None, shrinking=True,\n",
       "  tol=0.001, verbose=False)"
      ]
     },
     "execution_count": 59,
     "metadata": {},
     "output_type": "execute_result"
    }
   ],
   "source": [
    "# predict test data classes with SVM and save the results in excel file\n",
    "clf_svm.fit(X_new,y_new)\n",
    "svc_pred = clf_svm.predict(scaled_test_data2)\n",
    "df = pd.DataFrame(list(svc_pred))\n",
    "df.to_excel('output_CV.xlsx', header='class', index=False)"
   ]
  },
  {
   "cell_type": "markdown",
   "metadata": {},
   "source": [
    "# CV with random shuffling of the training data"
   ]
  },
  {
   "cell_type": "code",
   "execution_count": 258,
   "metadata": {},
   "outputs": [
    {
     "data": {
      "text/plain": [
       "array([ 0.67777778,  0.78888889,  0.66666667,  0.8       ,  0.74444444,\n",
       "        0.7       ,  0.67777778,  0.7       ,  0.65555556,  0.77777778])"
      ]
     },
     "execution_count": 258,
     "metadata": {},
     "output_type": "execute_result"
    }
   ],
   "source": [
    "from sklearn.model_selection import cross_val_score\n",
    "from sklearn.model_selection import ShuffleSplit\n",
    "cv = ShuffleSplit(n_splits=10, test_size=0.1, random_state=0)\n",
    "cross_val_score(clf_svm, X_c, y_c, cv=cv)"
   ]
  }
 ],
 "metadata": {
  "kernelspec": {
   "display_name": "Python 3",
   "language": "python",
   "name": "python3"
  },
  "language_info": {
   "codemirror_mode": {
    "name": "ipython",
    "version": 3
   },
   "file_extension": ".py",
   "mimetype": "text/x-python",
   "name": "python",
   "nbconvert_exporter": "python",
   "pygments_lexer": "ipython3",
   "version": "3.6.3"
  }
 },
 "nbformat": 4,
 "nbformat_minor": 2
}
