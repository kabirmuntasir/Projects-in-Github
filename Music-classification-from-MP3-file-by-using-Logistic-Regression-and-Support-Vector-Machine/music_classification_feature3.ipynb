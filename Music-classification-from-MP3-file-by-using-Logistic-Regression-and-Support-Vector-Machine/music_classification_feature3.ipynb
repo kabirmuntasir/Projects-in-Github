{
 "cells": [
  {
   "cell_type": "markdown",
   "metadata": {},
   "source": [
    "# Music classfication using third feature (MFCC: mean , variance, median, max, min)"
   ]
  },
  {
   "cell_type": "code",
   "execution_count": 32,
   "metadata": {
    "collapsed": true
   },
   "outputs": [],
   "source": [
    "# import Libraries\n",
    "import scipy\n",
    "from matplotlib.pyplot import specgram\n",
    "from scipy import io\n",
    "import scipy.io.wavfile\n",
    "import soundfile as sf\n",
    "import numpy as np\n",
    "import pandas as pd\n",
    "from scipy.fftpack import fft\n",
    "# scaling training data\n",
    "from sklearn import preprocessing\n",
    "from sklearn.preprocessing import StandardScaler\n",
    "%matplotlib inline\n",
    "import librosa\n",
    "import timeit\n",
    "import os"
   ]
  },
  {
   "cell_type": "code",
   "execution_count": 33,
   "metadata": {
    "collapsed": true
   },
   "outputs": [],
   "source": [
    "# import LR and SVM classifieres and confusion matrix\n",
    "from sklearn.linear_model import LogisticRegression\n",
    "clf_lr = LogisticRegression(random_state=0)\n",
    "\n",
    "from sklearn import svm\n",
    "clf_svm = svm.SVC()\n",
    "\n",
    "from sklearn.model_selection import train_test_split\n",
    "from sklearn.metrics import confusion_matrix"
   ]
  },
  {
   "cell_type": "markdown",
   "metadata": {},
   "source": [
    "# Using training data"
   ]
  },
  {
   "cell_type": "code",
   "execution_count": 34,
   "metadata": {},
   "outputs": [
    {
     "name": "stdout",
     "output_type": "stream",
     "text": [
      "--- 54.303852812934565 seconds ---\n"
     ]
    }
   ],
   "source": [
    "# get training data and MFCC features extraction (mean , variance, median, max, min)\n",
    "fun_dict1={}\n",
    "dir = 'combinedata/'\n",
    "\n",
    "start_time = timeit.default_timer()\n",
    "for root, dirs, files in os.walk(dir):\n",
    "        for name in files:\n",
    "            data, samplerate = sf.read(dir+name)\n",
    "            mfcc = librosa.feature.mfcc(y=data, sr=samplerate,n_mfcc=50)\n",
    "            mfcc_transpose = mfcc.transpose()\n",
    "            dummy = mfcc_transpose\n",
    "            fun_dict1[name] = np.concatenate((dummy.mean(axis=0),dummy.var(axis=0),dummy.max(axis=0),dummy.min(axis=0),np.median(dummy,axis=0)))\n",
    "        \n",
    "print(\"--- %s seconds ---\" % (timeit.default_timer() - start_time))"
   ]
  },
  {
   "cell_type": "code",
   "execution_count": 35,
   "metadata": {},
   "outputs": [
    {
     "data": {
      "text/html": [
       "<div>\n",
       "<table border=\"1\" class=\"dataframe\">\n",
       "  <thead>\n",
       "    <tr style=\"text-align: right;\">\n",
       "      <th></th>\n",
       "      <th>0</th>\n",
       "      <th>1</th>\n",
       "      <th>2</th>\n",
       "      <th>3</th>\n",
       "      <th>4</th>\n",
       "      <th>5</th>\n",
       "      <th>6</th>\n",
       "      <th>7</th>\n",
       "      <th>8</th>\n",
       "      <th>9</th>\n",
       "      <th>...</th>\n",
       "      <th>240</th>\n",
       "      <th>241</th>\n",
       "      <th>242</th>\n",
       "      <th>243</th>\n",
       "      <th>244</th>\n",
       "      <th>245</th>\n",
       "      <th>246</th>\n",
       "      <th>247</th>\n",
       "      <th>248</th>\n",
       "      <th>249</th>\n",
       "    </tr>\n",
       "  </thead>\n",
       "  <tbody>\n",
       "    <tr>\n",
       "      <th>0</th>\n",
       "      <td>-113.570650</td>\n",
       "      <td>121.571798</td>\n",
       "      <td>-19.168142</td>\n",
       "      <td>42.366419</td>\n",
       "      <td>-6.364663</td>\n",
       "      <td>18.623498</td>\n",
       "      <td>-13.704890</td>\n",
       "      <td>15.343150</td>\n",
       "      <td>-12.274108</td>\n",
       "      <td>10.976571</td>\n",
       "      <td>...</td>\n",
       "      <td>1.619759</td>\n",
       "      <td>-0.314902</td>\n",
       "      <td>-3.580539</td>\n",
       "      <td>-1.985767</td>\n",
       "      <td>-2.744603</td>\n",
       "      <td>-1.363338</td>\n",
       "      <td>0.482536</td>\n",
       "      <td>4.677788</td>\n",
       "      <td>0.444118</td>\n",
       "      <td>-3.047436</td>\n",
       "    </tr>\n",
       "    <tr>\n",
       "      <th>1</th>\n",
       "      <td>-207.501685</td>\n",
       "      <td>123.991259</td>\n",
       "      <td>8.955128</td>\n",
       "      <td>35.877647</td>\n",
       "      <td>2.907321</td>\n",
       "      <td>21.510467</td>\n",
       "      <td>-8.560437</td>\n",
       "      <td>23.370686</td>\n",
       "      <td>-10.099661</td>\n",
       "      <td>11.900497</td>\n",
       "      <td>...</td>\n",
       "      <td>0.436153</td>\n",
       "      <td>-1.483060</td>\n",
       "      <td>-2.420525</td>\n",
       "      <td>-2.706079</td>\n",
       "      <td>-4.526994</td>\n",
       "      <td>-2.634778</td>\n",
       "      <td>0.088322</td>\n",
       "      <td>0.988072</td>\n",
       "      <td>-2.827649</td>\n",
       "      <td>-3.436141</td>\n",
       "    </tr>\n",
       "    <tr>\n",
       "      <th>2</th>\n",
       "      <td>-90.722595</td>\n",
       "      <td>140.446306</td>\n",
       "      <td>-29.093890</td>\n",
       "      <td>31.684336</td>\n",
       "      <td>-13.984503</td>\n",
       "      <td>25.764743</td>\n",
       "      <td>-13.664875</td>\n",
       "      <td>11.639933</td>\n",
       "      <td>-11.783642</td>\n",
       "      <td>9.718760</td>\n",
       "      <td>...</td>\n",
       "      <td>3.400110</td>\n",
       "      <td>-0.011584</td>\n",
       "      <td>-2.928475</td>\n",
       "      <td>-2.141139</td>\n",
       "      <td>1.763963</td>\n",
       "      <td>-1.655449</td>\n",
       "      <td>-4.498727</td>\n",
       "      <td>-3.188884</td>\n",
       "      <td>1.531882</td>\n",
       "      <td>-1.990120</td>\n",
       "    </tr>\n",
       "    <tr>\n",
       "      <th>3</th>\n",
       "      <td>-199.544200</td>\n",
       "      <td>150.090908</td>\n",
       "      <td>5.662679</td>\n",
       "      <td>26.859079</td>\n",
       "      <td>1.771400</td>\n",
       "      <td>14.234030</td>\n",
       "      <td>-4.832006</td>\n",
       "      <td>9.286495</td>\n",
       "      <td>-0.759186</td>\n",
       "      <td>8.137606</td>\n",
       "      <td>...</td>\n",
       "      <td>-0.013741</td>\n",
       "      <td>-3.143045</td>\n",
       "      <td>-4.528693</td>\n",
       "      <td>-3.399880</td>\n",
       "      <td>-4.685849</td>\n",
       "      <td>-4.585617</td>\n",
       "      <td>-4.863157</td>\n",
       "      <td>-2.104192</td>\n",
       "      <td>-2.814316</td>\n",
       "      <td>-5.589829</td>\n",
       "    </tr>\n",
       "    <tr>\n",
       "      <th>4</th>\n",
       "      <td>-160.337711</td>\n",
       "      <td>126.219631</td>\n",
       "      <td>-35.587809</td>\n",
       "      <td>22.148071</td>\n",
       "      <td>-32.478602</td>\n",
       "      <td>10.852293</td>\n",
       "      <td>-23.352330</td>\n",
       "      <td>0.498432</td>\n",
       "      <td>-11.793436</td>\n",
       "      <td>1.207254</td>\n",
       "      <td>...</td>\n",
       "      <td>2.111204</td>\n",
       "      <td>0.402386</td>\n",
       "      <td>-2.583666</td>\n",
       "      <td>-5.863511</td>\n",
       "      <td>-5.963378</td>\n",
       "      <td>-2.087421</td>\n",
       "      <td>1.606380</td>\n",
       "      <td>1.945488</td>\n",
       "      <td>-3.727734</td>\n",
       "      <td>-4.412989</td>\n",
       "    </tr>\n",
       "  </tbody>\n",
       "</table>\n",
       "<p>5 rows × 250 columns</p>\n",
       "</div>"
      ],
      "text/plain": [
       "          0           1          2          3          4          5    \\\n",
       "0 -113.570650  121.571798 -19.168142  42.366419  -6.364663  18.623498   \n",
       "1 -207.501685  123.991259   8.955128  35.877647   2.907321  21.510467   \n",
       "2  -90.722595  140.446306 -29.093890  31.684336 -13.984503  25.764743   \n",
       "3 -199.544200  150.090908   5.662679  26.859079   1.771400  14.234030   \n",
       "4 -160.337711  126.219631 -35.587809  22.148071 -32.478602  10.852293   \n",
       "\n",
       "         6          7          8          9      ...          240       241  \\\n",
       "0 -13.704890  15.343150 -12.274108  10.976571    ...     1.619759 -0.314902   \n",
       "1  -8.560437  23.370686 -10.099661  11.900497    ...     0.436153 -1.483060   \n",
       "2 -13.664875  11.639933 -11.783642   9.718760    ...     3.400110 -0.011584   \n",
       "3  -4.832006   9.286495  -0.759186   8.137606    ...    -0.013741 -3.143045   \n",
       "4 -23.352330   0.498432 -11.793436   1.207254    ...     2.111204  0.402386   \n",
       "\n",
       "        242       243       244       245       246       247       248  \\\n",
       "0 -3.580539 -1.985767 -2.744603 -1.363338  0.482536  4.677788  0.444118   \n",
       "1 -2.420525 -2.706079 -4.526994 -2.634778  0.088322  0.988072 -2.827649   \n",
       "2 -2.928475 -2.141139  1.763963 -1.655449 -4.498727 -3.188884  1.531882   \n",
       "3 -4.528693 -3.399880 -4.685849 -4.585617 -4.863157 -2.104192 -2.814316   \n",
       "4 -2.583666 -5.863511 -5.963378 -2.087421  1.606380  1.945488 -3.727734   \n",
       "\n",
       "        249  \n",
       "0 -3.047436  \n",
       "1 -3.436141  \n",
       "2 -1.990120  \n",
       "3 -5.589829  \n",
       "4 -4.412989  \n",
       "\n",
       "[5 rows x 250 columns]"
      ]
     },
     "execution_count": 35,
     "metadata": {},
     "output_type": "execute_result"
    }
   ],
   "source": [
    "# convert dictionary to  dataframe : making data frame of the training for further processing using Pandas\n",
    "df2 = pd.DataFrame(fun_dict1)\n",
    "df3 = df2.transpose()\n",
    "l=df3.index\n",
    "class_response = pd.DataFrame(l.str.split('.',1).tolist(),columns = ['response','rest']) # get labels of the song\n",
    "df3.index = range(0,len(df3)) #training dataset without class response\n",
    "df3.head()"
   ]
  },
  {
   "cell_type": "code",
   "execution_count": 38,
   "metadata": {
    "collapsed": true
   },
   "outputs": [],
   "source": [
    "# scaling of traing data with standard scalar\n",
    "train_data = df3\n",
    "train_mfccdata =pd.DataFrame(train_data)\n",
    "scaler=StandardScaler()\n",
    "scaler.fit(train_mfccdata)\n",
    "scaled_train_data=scaler.transform(train_mfccdata)"
   ]
  },
  {
   "cell_type": "code",
   "execution_count": 39,
   "metadata": {
    "collapsed": true
   },
   "outputs": [],
   "source": [
    "# assign new variables namely X and y for taining features and labels\n",
    "X = scaled_train_data\n",
    "y = class_response.response"
   ]
  },
  {
   "cell_type": "code",
   "execution_count": 41,
   "metadata": {
    "collapsed": true
   },
   "outputs": [],
   "source": [
    "# run train test split for the training data\n",
    "test_sz = 0.30 # test size\n",
    "X_train, X_test, y_train, y_test = train_test_split(X, y, test_size=test_sz, random_state=42)"
   ]
  },
  {
   "cell_type": "code",
   "execution_count": 42,
   "metadata": {},
   "outputs": [
    {
     "data": {
      "text/plain": [
       "array([[15,  0,  1,  0,  1,  3,  1,  0,  0,  9],\n",
       "       [ 0, 16,  0,  0,  0,  1,  0,  0,  1,  0],\n",
       "       [ 0,  0, 12,  1,  2,  2,  0,  1,  3,  4],\n",
       "       [ 1,  0,  0, 18,  1,  1,  4,  3,  0,  5],\n",
       "       [ 1,  0,  3,  2, 15,  0,  4,  3,  5,  2],\n",
       "       [ 0,  2,  0,  1,  0, 29,  0,  1,  0,  0],\n",
       "       [ 2,  0,  1,  0,  0,  0, 23,  0,  0,  0],\n",
       "       [ 0,  0,  1,  1,  1,  0,  0, 18,  0,  1],\n",
       "       [ 1,  0,  1,  0,  5,  0,  0,  0, 16,  1],\n",
       "       [ 0,  0,  2,  7,  1,  0,  3,  0,  1, 10]])"
      ]
     },
     "execution_count": 42,
     "metadata": {},
     "output_type": "execute_result"
    }
   ],
   "source": [
    "# logistic regression (LR)\n",
    "clf_lr.fit(X_train,y_train) # train the classifier: \n",
    "y_pred = clf_lr.predict(X_test) # predict levels\n",
    "cnf_matrix = confusion_matrix(y_test, y_pred) # Confusion matrix\n",
    "cnf_matrix"
   ]
  },
  {
   "cell_type": "code",
   "execution_count": 43,
   "metadata": {},
   "outputs": [
    {
     "data": {
      "text/plain": [
       "array([[25,  0,  1,  3,  0,  0,  0,  0,  1,  0],\n",
       "       [ 0, 16,  0,  0,  0,  0,  0,  0,  0,  2],\n",
       "       [ 3,  1, 16,  1,  0,  2,  0,  0,  0,  2],\n",
       "       [ 0,  0,  1, 20,  2,  0,  2,  1,  1,  6],\n",
       "       [ 1,  0,  1,  3, 16,  0,  2,  2,  8,  2],\n",
       "       [ 0,  3,  0,  1,  0, 27,  0,  1,  0,  1],\n",
       "       [ 0,  0,  0,  2,  0,  0, 23,  0,  0,  1],\n",
       "       [ 0,  0,  1,  2,  0,  0,  0, 18,  0,  1],\n",
       "       [ 1,  0,  1,  0,  2,  0,  0,  1, 17,  2],\n",
       "       [ 0,  0,  2,  4,  0,  0,  3,  0,  0, 15]])"
      ]
     },
     "execution_count": 43,
     "metadata": {},
     "output_type": "execute_result"
    }
   ],
   "source": [
    "# SVM\n",
    "clf_svm.fit(X_train,y_train) # train your classifier:\n",
    "y_pred = clf_svm.predict(X_test) # predict levels\n",
    "cnf_matrix = confusion_matrix(y_test, y_pred) # Confusion matrix\n",
    "cnf_matrix"
   ]
  },
  {
   "cell_type": "code",
   "execution_count": 44,
   "metadata": {
    "collapsed": true
   },
   "outputs": [],
   "source": [
    "# function of drawing confusion matrix\n",
    "import matplotlib.pyplot as plt\n",
    "import itertools\n",
    "def plot_confusion_matrix(cm, classes,\n",
    "                          normalize=False,\n",
    "                          title='Confusion matrix',\n",
    "                          cmap=plt.cm.Blues):\n",
    "    \"\"\"\n",
    "    This function prints and plots the confusion matrix.\n",
    "    Normalization can be applied by setting `normalize=True`.\n",
    "    \"\"\"\n",
    "    if normalize:\n",
    "        cm = cm.astype('float') / cm.sum(axis=1)[:, np.newaxis]\n",
    "        print(\"Normalized confusion matrix\")\n",
    "    else:\n",
    "        print('Confusion matrix, without normalization')\n",
    "\n",
    "    print(cm)\n",
    "\n",
    "    plt.imshow(cm, interpolation='nearest', cmap=cmap)#'viridis')\n",
    "    plt.title(title)\n",
    "    plt.colorbar()\n",
    "    tick_marks = np.arange(len(classes))\n",
    "    plt.xticks(tick_marks, classes, rotation=45)\n",
    "    plt.yticks(tick_marks, classes)\n",
    "\n",
    "    fmt = '.2f' if normalize else 'd'\n",
    "    thresh = cm.max() / 2.\n",
    "    for i, j in itertools.product(range(cm.shape[0]), range(cm.shape[1])):\n",
    "        plt.text(j, i, format(cm[i, j], fmt),\n",
    "                 horizontalalignment=\"center\",\n",
    "                 color=\"white\" if cm[i, j] > thresh else \"black\")\n",
    "\n",
    "    plt.tight_layout()\n",
    "    plt.ylabel('True label')\n",
    "    plt.xlabel('Predicted label')"
   ]
  },
  {
   "cell_type": "code",
   "execution_count": 45,
   "metadata": {},
   "outputs": [
    {
     "name": "stdout",
     "output_type": "stream",
     "text": [
      "Confusion matrix, without normalization\n",
      "[[25  0  1  3  0  0  0  0  1  0]\n",
      " [ 0 16  0  0  0  0  0  0  0  2]\n",
      " [ 3  1 16  1  0  2  0  0  0  2]\n",
      " [ 0  0  1 20  2  0  2  1  1  6]\n",
      " [ 1  0  1  3 16  0  2  2  8  2]\n",
      " [ 0  3  0  1  0 27  0  1  0  1]\n",
      " [ 0  0  0  2  0  0 23  0  0  1]\n",
      " [ 0  0  1  2  0  0  0 18  0  1]\n",
      " [ 1  0  1  0  2  0  0  1 17  2]\n",
      " [ 0  0  2  4  0  0  3  0  0 15]]\n"
     ]
    },
    {
     "data": {
      "image/png": "[encoded data removed]",
      "text/plain": [
       "<matplotlib.figure.Figure at 0xcafa588>"
      ]
     },
     "metadata": {},
     "output_type": "display_data"
    }
   ],
   "source": [
    "# Plot non-normalized confusion matrix\n",
    "label = ['blues','classical','country','disco','hiphop','jazz','metal','pop','reggae','rock'] # class labels\n",
    "fig=plt.figure()\n",
    "plot_confusion_matrix(cnf_matrix, classes=label, title='Confusion matrix, without normalization')\n",
    "fig.set_size_inches(12, 10)\n",
    "ax = fig.add_subplot(111)\n",
    "plt.show()\n",
    "#fig.savefig('confusion_mat_LR_feature2.eps')  # save figure"
   ]
  },
  {
   "cell_type": "markdown",
   "metadata": {},
   "source": [
    "# 10 fold cross validation of the training data"
   ]
  },
  {
   "cell_type": "code",
   "execution_count": 47,
   "metadata": {
    "collapsed": true
   },
   "outputs": [],
   "source": [
    "# import CV libraries\n",
    "from sklearn.model_selection import KFold\n",
    "from sklearn.metrics import accuracy_score\n",
    "kf = KFold(n_splits=10,shuffle=True,random_state=0)"
   ]
  },
  {
   "cell_type": "code",
   "execution_count": 48,
   "metadata": {},
   "outputs": [
    {
     "name": "stdout",
     "output_type": "stream",
     "text": [
      "Accuracy: 0.611111111111\n",
      "Accuracy: 0.688888888889\n",
      "Accuracy: 0.666666666667\n",
      "Accuracy: 0.655555555556\n",
      "Accuracy: 0.655555555556\n",
      "Accuracy: 0.611111111111\n",
      "Accuracy: 0.677777777778\n",
      "Accuracy: 0.711111111111\n",
      "Accuracy: 0.644444444444\n",
      "Accuracy: 0.744444444444\n"
     ]
    },
    {
     "data": {
      "text/plain": [
       "0.66666666666666674"
      ]
     },
     "execution_count": 48,
     "metadata": {},
     "output_type": "execute_result"
    }
   ],
   "source": [
    "X_c = scaled_train_data\n",
    "y_c = y\n",
    "df_cv = pd.DataFrame(X_c)\n",
    "df_cv['label'] = y_c\n",
    "train_index_all = np.zeros((10,810))\n",
    "l = 0\n",
    "sum = 0\n",
    "for train_index, test_index in kf.split(df_cv):\n",
    "    #print(\"TRAIN:\", train_index.shape, \"TEST:\", test_index.shape)\n",
    "    train_index_all[l,:] = train_index\n",
    "    l = l + 1\n",
    "    train_data_cv = X_c[train_index]\n",
    "    label_train_cv = y_c[train_index]\n",
    "    test_data_cv = X_c[test_index]\n",
    "    label_test_cv = y_c[test_index]\n",
    "    clf_lr.fit(train_data_cv,label_train_cv)\n",
    "    y_pred_cv = clf_lr.predict(test_data_cv)    \n",
    "#    clf_svm.fit(train_data_cv,label_train_cv)\n",
    "#    y_pred_cv = clf_svm.predict(test_data_cv)\n",
    "    y_true = label_test_cv\n",
    "    y_pred = y_pred_cv\n",
    "    print(\"Accuracy:\",accuracy_score(y_true, y_pred))\n",
    "    sum +=accuracy_score(y_true, y_pred)\n",
    "    #sum += nltk.classify.accuracy(classifier, test_data)\n",
    "average = sum/10.0\n",
    "average"
   ]
  },
  {
   "cell_type": "markdown",
   "metadata": {},
   "source": [
    "# Using test data"
   ]
  },
  {
   "cell_type": "code",
   "execution_count": 53,
   "metadata": {},
   "outputs": [],
   "source": [
    "# get tesing data and MFCC feature extraction\n",
    "fun_dict2={}\n",
    "test_directory = './validation/rename'\n",
    "for root, dirs, files in os.walk(test_directory):\n",
    "    for name in files:\n",
    "        data, samplerate = sf.read(test_directory+'/'+name)\n",
    "        mfcc = librosa.feature.mfcc(y=data, sr=samplerate,n_mfcc=50)\n",
    "        mfcc_transpose = mfcc.transpose()\n",
    "        dummy = mfcc_transpose\n",
    "        fun_dict2[name] = np.concatenate((dummy.mean(axis=0),dummy.var(axis=0),dummy.max(axis=0),dummy.min(axis=0),np.median(dummy,axis=0)))"
   ]
  },
  {
   "cell_type": "code",
   "execution_count": 54,
   "metadata": {
    "collapsed": true
   },
   "outputs": [],
   "source": [
    "#convert dictionary to  dataframe (validation Data) \n",
    "test_data2=pd.DataFrame(fun_dict2)\n",
    "test_data2=test_data2.transpose()\n",
    "test_data2.index = range(0,len(test_data2))\n",
    "\n",
    "# scaling of testing data\n",
    "test_data2_scaled =pd.DataFrame(test_data2)\n",
    "scaler=StandardScaler()\n",
    "scaler.fit(test_data2_scaled)\n",
    "scaled_test_data2=scaler.transform(test_data2_scaled)"
   ]
  },
  {
   "cell_type": "code",
   "execution_count": 55,
   "metadata": {},
   "outputs": [],
   "source": [
    "# predict test data classes with logistic regression (LR) and save the results in excel file\n",
    "clf_lr.fit(X,y) # X = train data, y = train level\n",
    "lr_pred = clf_lr.predict(scaled_test_data2)\n",
    "df = pd.DataFrame(list(lr_pred))\n",
    "df.to_excel('output_lr.xlsx', header='class', index=False)"
   ]
  },
  {
   "cell_type": "code",
   "execution_count": 56,
   "metadata": {
    "collapsed": true
   },
   "outputs": [],
   "source": [
    "# predict test data classes with SVM and save the results in excel file\n",
    "clf_svm.fit(X,y)\n",
    "svc_pred = clf_svm.predict(scaled_test_data2)\n",
    "df = pd.DataFrame(list(svc_pred))\n",
    "df.to_excel('output_svc.xlsx', header='class', index=False)"
   ]
  },
  {
   "cell_type": "markdown",
   "metadata": {},
   "source": [
    "# use those training data with good accuracy for training and then testing"
   ]
  },
  {
   "cell_type": "code",
   "execution_count": 58,
   "metadata": {},
   "outputs": [],
   "source": [
    "results_index = [int(i) for i in list(train_index_all[9,])] # training set index with good accuracy from CV\n",
    "X_new = scaled_train_data[results_index]\n",
    "y_new = y[results_index]"
   ]
  },
  {
   "cell_type": "code",
   "execution_count": 59,
   "metadata": {},
   "outputs": [],
   "source": [
    "# predict test data classes with SVM and save the results in excel file\n",
    "clf_svm.fit(X_new,y_new)\n",
    "svc_pred = clf_svm.predict(scaled_test_data2)\n",
    "df = pd.DataFrame(list(svc_pred))\n",
    "df.to_excel('output_CV.xlsx', header='class', index=False)"
   ]
  },
  {
   "cell_type": "markdown",
   "metadata": {},
   "source": [
    "# CV with random shuffling of the data"
   ]
  },
  {
   "cell_type": "code",
   "execution_count": 60,
   "metadata": {},
   "outputs": [
    {
     "data": {
      "text/plain": [
       "array([ 0.67777778,  0.78888889,  0.66666667,  0.8       ,  0.74444444,\n",
       "        0.7       ,  0.67777778,  0.7       ,  0.65555556,  0.77777778])"
      ]
     },
     "execution_count": 60,
     "metadata": {},
     "output_type": "execute_result"
    }
   ],
   "source": [
    "from sklearn.model_selection import cross_val_score\n",
    "from sklearn.model_selection import ShuffleSplit\n",
    "cv = ShuffleSplit(n_splits=10, test_size=0.1, random_state=0)\n",
    "cross_val_score(clf_svm, X_c, y_c, cv=cv)"
   ]
  }
 ],
 "metadata": {
  "kernelspec": {
   "display_name": "Python 3",
   "language": "python",
   "name": "python3"
  },
  "language_info": {
   "codemirror_mode": {
    "name": "ipython",
    "version": 3
   },
   "file_extension": ".py",
   "mimetype": "text/x-python",
   "name": "python",
   "nbconvert_exporter": "python",
   "pygments_lexer": "ipython3",
   "version": "3.6.3"
  }
 },
 "nbformat": 4,
 "nbformat_minor": 2
}
